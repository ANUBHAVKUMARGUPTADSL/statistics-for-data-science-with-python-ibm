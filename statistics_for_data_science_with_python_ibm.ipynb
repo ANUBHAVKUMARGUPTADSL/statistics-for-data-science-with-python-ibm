{
  "nbformat": 4,
  "nbformat_minor": 0,
  "metadata": {
    "colab": {
      "provenance": []
    },
    "kernelspec": {
      "name": "python3",
      "display_name": "Python 3"
    },
    "language_info": {
      "name": "python"
    }
  },
  "cells": [
    {
      "cell_type": "markdown",
      "source": [
        "# statistics for data science with python ibm final assignment"
      ],
      "metadata": {
        "id": "BZ3hyFEeESd3"
      }
    },
    {
      "cell_type": "code",
      "execution_count": 25,
      "metadata": {
        "id": "AbMPo05rQlFh"
      },
      "outputs": [],
      "source": [
        "import numpy as np\n",
        "import pandas as pd\n",
        "import matplotlib.pyplot as plt\n",
        "import seaborn as sns\n",
        "import scipy"
      ]
    },
    {
      "cell_type": "code",
      "source": [
        "boston_url = 'https://cf-courses-data.s3.us.cloud-object-storage.appdomain.cloud/IBMDeveloperSkillsNetwork-ST0151EN-SkillsNetwork/labs/boston_housing.csv'\n",
        "df=pd.read_csv(boston_url)"
      ],
      "metadata": {
        "id": "aIeCnfgRQmQG"
      },
      "execution_count": 4,
      "outputs": []
    },
    {
      "cell_type": "code",
      "source": [
        "df.head()"
      ],
      "metadata": {
        "colab": {
          "base_uri": "https://localhost:8080/",
          "height": 206
        },
        "id": "lCg-381iQ3_6",
        "outputId": "fb53ed78-e932-4ffe-f542-96af461978d3"
      },
      "execution_count": 5,
      "outputs": [
        {
          "output_type": "execute_result",
          "data": {
            "text/plain": [
              "   Unnamed: 0     CRIM    ZN  INDUS  CHAS    NOX     RM   AGE     DIS  RAD  \\\n",
              "0           0  0.00632  18.0   2.31   0.0  0.538  6.575  65.2  4.0900  1.0   \n",
              "1           1  0.02731   0.0   7.07   0.0  0.469  6.421  78.9  4.9671  2.0   \n",
              "2           2  0.02729   0.0   7.07   0.0  0.469  7.185  61.1  4.9671  2.0   \n",
              "3           3  0.03237   0.0   2.18   0.0  0.458  6.998  45.8  6.0622  3.0   \n",
              "4           4  0.06905   0.0   2.18   0.0  0.458  7.147  54.2  6.0622  3.0   \n",
              "\n",
              "     TAX  PTRATIO  LSTAT  MEDV  \n",
              "0  296.0     15.3   4.98  24.0  \n",
              "1  242.0     17.8   9.14  21.6  \n",
              "2  242.0     17.8   4.03  34.7  \n",
              "3  222.0     18.7   2.94  33.4  \n",
              "4  222.0     18.7   5.33  36.2  "
            ],
            "text/html": [
              "\n",
              "  <div id=\"df-73fc3731-a873-480a-bef6-c73bebae68de\">\n",
              "    <div class=\"colab-df-container\">\n",
              "      <div>\n",
              "<style scoped>\n",
              "    .dataframe tbody tr th:only-of-type {\n",
              "        vertical-align: middle;\n",
              "    }\n",
              "\n",
              "    .dataframe tbody tr th {\n",
              "        vertical-align: top;\n",
              "    }\n",
              "\n",
              "    .dataframe thead th {\n",
              "        text-align: right;\n",
              "    }\n",
              "</style>\n",
              "<table border=\"1\" class=\"dataframe\">\n",
              "  <thead>\n",
              "    <tr style=\"text-align: right;\">\n",
              "      <th></th>\n",
              "      <th>Unnamed: 0</th>\n",
              "      <th>CRIM</th>\n",
              "      <th>ZN</th>\n",
              "      <th>INDUS</th>\n",
              "      <th>CHAS</th>\n",
              "      <th>NOX</th>\n",
              "      <th>RM</th>\n",
              "      <th>AGE</th>\n",
              "      <th>DIS</th>\n",
              "      <th>RAD</th>\n",
              "      <th>TAX</th>\n",
              "      <th>PTRATIO</th>\n",
              "      <th>LSTAT</th>\n",
              "      <th>MEDV</th>\n",
              "    </tr>\n",
              "  </thead>\n",
              "  <tbody>\n",
              "    <tr>\n",
              "      <th>0</th>\n",
              "      <td>0</td>\n",
              "      <td>0.00632</td>\n",
              "      <td>18.0</td>\n",
              "      <td>2.31</td>\n",
              "      <td>0.0</td>\n",
              "      <td>0.538</td>\n",
              "      <td>6.575</td>\n",
              "      <td>65.2</td>\n",
              "      <td>4.0900</td>\n",
              "      <td>1.0</td>\n",
              "      <td>296.0</td>\n",
              "      <td>15.3</td>\n",
              "      <td>4.98</td>\n",
              "      <td>24.0</td>\n",
              "    </tr>\n",
              "    <tr>\n",
              "      <th>1</th>\n",
              "      <td>1</td>\n",
              "      <td>0.02731</td>\n",
              "      <td>0.0</td>\n",
              "      <td>7.07</td>\n",
              "      <td>0.0</td>\n",
              "      <td>0.469</td>\n",
              "      <td>6.421</td>\n",
              "      <td>78.9</td>\n",
              "      <td>4.9671</td>\n",
              "      <td>2.0</td>\n",
              "      <td>242.0</td>\n",
              "      <td>17.8</td>\n",
              "      <td>9.14</td>\n",
              "      <td>21.6</td>\n",
              "    </tr>\n",
              "    <tr>\n",
              "      <th>2</th>\n",
              "      <td>2</td>\n",
              "      <td>0.02729</td>\n",
              "      <td>0.0</td>\n",
              "      <td>7.07</td>\n",
              "      <td>0.0</td>\n",
              "      <td>0.469</td>\n",
              "      <td>7.185</td>\n",
              "      <td>61.1</td>\n",
              "      <td>4.9671</td>\n",
              "      <td>2.0</td>\n",
              "      <td>242.0</td>\n",
              "      <td>17.8</td>\n",
              "      <td>4.03</td>\n",
              "      <td>34.7</td>\n",
              "    </tr>\n",
              "    <tr>\n",
              "      <th>3</th>\n",
              "      <td>3</td>\n",
              "      <td>0.03237</td>\n",
              "      <td>0.0</td>\n",
              "      <td>2.18</td>\n",
              "      <td>0.0</td>\n",
              "      <td>0.458</td>\n",
              "      <td>6.998</td>\n",
              "      <td>45.8</td>\n",
              "      <td>6.0622</td>\n",
              "      <td>3.0</td>\n",
              "      <td>222.0</td>\n",
              "      <td>18.7</td>\n",
              "      <td>2.94</td>\n",
              "      <td>33.4</td>\n",
              "    </tr>\n",
              "    <tr>\n",
              "      <th>4</th>\n",
              "      <td>4</td>\n",
              "      <td>0.06905</td>\n",
              "      <td>0.0</td>\n",
              "      <td>2.18</td>\n",
              "      <td>0.0</td>\n",
              "      <td>0.458</td>\n",
              "      <td>7.147</td>\n",
              "      <td>54.2</td>\n",
              "      <td>6.0622</td>\n",
              "      <td>3.0</td>\n",
              "      <td>222.0</td>\n",
              "      <td>18.7</td>\n",
              "      <td>5.33</td>\n",
              "      <td>36.2</td>\n",
              "    </tr>\n",
              "  </tbody>\n",
              "</table>\n",
              "</div>\n",
              "      <button class=\"colab-df-convert\" onclick=\"convertToInteractive('df-73fc3731-a873-480a-bef6-c73bebae68de')\"\n",
              "              title=\"Convert this dataframe to an interactive table.\"\n",
              "              style=\"display:none;\">\n",
              "        \n",
              "  <svg xmlns=\"http://www.w3.org/2000/svg\" height=\"24px\"viewBox=\"0 0 24 24\"\n",
              "       width=\"24px\">\n",
              "    <path d=\"M0 0h24v24H0V0z\" fill=\"none\"/>\n",
              "    <path d=\"M18.56 5.44l.94 2.06.94-2.06 2.06-.94-2.06-.94-.94-2.06-.94 2.06-2.06.94zm-11 1L8.5 8.5l.94-2.06 2.06-.94-2.06-.94L8.5 2.5l-.94 2.06-2.06.94zm10 10l.94 2.06.94-2.06 2.06-.94-2.06-.94-.94-2.06-.94 2.06-2.06.94z\"/><path d=\"M17.41 7.96l-1.37-1.37c-.4-.4-.92-.59-1.43-.59-.52 0-1.04.2-1.43.59L10.3 9.45l-7.72 7.72c-.78.78-.78 2.05 0 2.83L4 21.41c.39.39.9.59 1.41.59.51 0 1.02-.2 1.41-.59l7.78-7.78 2.81-2.81c.8-.78.8-2.07 0-2.86zM5.41 20L4 18.59l7.72-7.72 1.47 1.35L5.41 20z\"/>\n",
              "  </svg>\n",
              "      </button>\n",
              "      \n",
              "  <style>\n",
              "    .colab-df-container {\n",
              "      display:flex;\n",
              "      flex-wrap:wrap;\n",
              "      gap: 12px;\n",
              "    }\n",
              "\n",
              "    .colab-df-convert {\n",
              "      background-color: #E8F0FE;\n",
              "      border: none;\n",
              "      border-radius: 50%;\n",
              "      cursor: pointer;\n",
              "      display: none;\n",
              "      fill: #1967D2;\n",
              "      height: 32px;\n",
              "      padding: 0 0 0 0;\n",
              "      width: 32px;\n",
              "    }\n",
              "\n",
              "    .colab-df-convert:hover {\n",
              "      background-color: #E2EBFA;\n",
              "      box-shadow: 0px 1px 2px rgba(60, 64, 67, 0.3), 0px 1px 3px 1px rgba(60, 64, 67, 0.15);\n",
              "      fill: #174EA6;\n",
              "    }\n",
              "\n",
              "    [theme=dark] .colab-df-convert {\n",
              "      background-color: #3B4455;\n",
              "      fill: #D2E3FC;\n",
              "    }\n",
              "\n",
              "    [theme=dark] .colab-df-convert:hover {\n",
              "      background-color: #434B5C;\n",
              "      box-shadow: 0px 1px 3px 1px rgba(0, 0, 0, 0.15);\n",
              "      filter: drop-shadow(0px 1px 2px rgba(0, 0, 0, 0.3));\n",
              "      fill: #FFFFFF;\n",
              "    }\n",
              "  </style>\n",
              "\n",
              "      <script>\n",
              "        const buttonEl =\n",
              "          document.querySelector('#df-73fc3731-a873-480a-bef6-c73bebae68de button.colab-df-convert');\n",
              "        buttonEl.style.display =\n",
              "          google.colab.kernel.accessAllowed ? 'block' : 'none';\n",
              "\n",
              "        async function convertToInteractive(key) {\n",
              "          const element = document.querySelector('#df-73fc3731-a873-480a-bef6-c73bebae68de');\n",
              "          const dataTable =\n",
              "            await google.colab.kernel.invokeFunction('convertToInteractive',\n",
              "                                                     [key], {});\n",
              "          if (!dataTable) return;\n",
              "\n",
              "          const docLinkHtml = 'Like what you see? Visit the ' +\n",
              "            '<a target=\"_blank\" href=https://colab.research.google.com/notebooks/data_table.ipynb>data table notebook</a>'\n",
              "            + ' to learn more about interactive tables.';\n",
              "          element.innerHTML = '';\n",
              "          dataTable['output_type'] = 'display_data';\n",
              "          await google.colab.output.renderOutput(dataTable, element);\n",
              "          const docLink = document.createElement('div');\n",
              "          docLink.innerHTML = docLinkHtml;\n",
              "          element.appendChild(docLink);\n",
              "        }\n",
              "      </script>\n",
              "    </div>\n",
              "  </div>\n",
              "  "
            ]
          },
          "metadata": {},
          "execution_count": 5
        }
      ]
    },
    {
      "cell_type": "markdown",
      "source": [
        "## For the \"Median value of owner-occupied homes\" provide a boxplot"
      ],
      "metadata": {
        "id": "l759tuhQFASY"
      }
    },
    {
      "cell_type": "code",
      "source": [
        "sns.boxplot(y='MEDV',data=df)\n",
        "plt.title('boxplot of Median value of owner-occupied homes')\n",
        "plt.ylabel('Median value of owner-occupied homes')\n",
        "plt.show()"
      ],
      "metadata": {
        "colab": {
          "base_uri": "https://localhost:8080/",
          "height": 268
        },
        "id": "AA9aIyRzQ5ch",
        "outputId": "2892cc96-84bd-4758-f025-c72b490195c7"
      },
      "execution_count": 6,
      "outputs": [
        {
          "output_type": "display_data",
          "data": {
            "text/plain": [
              "<Figure size 432x288 with 1 Axes>"
            ],
            "image/png": "[encoded data removed]"
          },
          "metadata": {
            "needs_background": "light"
          }
        }
      ]
    },
    {
      "cell_type": "markdown",
      "source": [
        "##### median values of owner occupied home is around 22 and minimum and maximum values are around 2 and 38 repectively with outliers from 39 to 50 repectively."
      ],
      "metadata": {
        "id": "u-Yszx6MI12G"
      }
    },
    {
      "cell_type": "markdown",
      "source": [
        "## Create a histogram for the pupil to teacher ratio variable"
      ],
      "metadata": {
        "id": "H_OskUmbFJJd"
      }
    },
    {
      "cell_type": "code",
      "source": [
        "sns.histplot(df['PTRATIO'])\n",
        "plt.title('histogram for the pupil to teacher ratio variable')\n",
        "plt.xlabel('ptratio for each class')\n",
        "plt.ylabel('count of ptratio for each class')\n",
        "plt.show()"
      ],
      "metadata": {
        "colab": {
          "base_uri": "https://localhost:8080/",
          "height": 295
        },
        "id": "uZv7kcloUhDa",
        "outputId": "5e8c3317-8a1f-4531-b749-af6b202ff253"
      },
      "execution_count": 10,
      "outputs": [
        {
          "output_type": "display_data",
          "data": {
            "text/plain": [
              "<Figure size 432x288 with 1 Axes>"
            ],
            "image/png": "[encoded data removed]"
          },
          "metadata": {
            "needs_background": "light"
          }
        }
      ]
    },
    {
      "cell_type": "markdown",
      "source": [
        "##### between class 20 and 22 the pratio have maximum count of pratio values with around 150."
      ],
      "metadata": {
        "id": "tx38XW4eJW1g"
      }
    },
    {
      "cell_type": "markdown",
      "source": [
        "## Provide a scatter plot to show the relationship between Nitric oxide concentrations and the proportion of non-retail business acres per town."
      ],
      "metadata": {
        "id": "6L43bfXxFtgS"
      }
    },
    {
      "cell_type": "code",
      "source": [
        "sns.scatterplot(x='NOX',y='INDUS',data=df)\n",
        "plt.title('relationship between Nitric oxide concentrations and the proportion of non-retail business acres per town')\n",
        "plt.xlabel('nox variable')\n",
        "plt.ylabel('indus variable')\n",
        "plt.show()"
      ],
      "metadata": {
        "colab": {
          "base_uri": "https://localhost:8080/",
          "height": 295
        },
        "id": "Ef6hCfjJUsxJ",
        "outputId": "a0cdb3f2-6144-443f-abeb-d6dbbc22ee8b"
      },
      "execution_count": 12,
      "outputs": [
        {
          "output_type": "display_data",
          "data": {
            "text/plain": [
              "<Figure size 432x288 with 1 Axes>"
            ],
            "image/png": "[encoded data removed]"
          },
          "metadata": {
            "needs_background": "light"
          }
        }
      ]
    },
    {
      "cell_type": "markdown",
      "source": [
        "##### this plot not give us a linear relationship between nox and indus beacuse the data points are not linearly spread over graph."
      ],
      "metadata": {
        "id": "OgJ2rrzfGIFO"
      }
    },
    {
      "cell_type": "markdown",
      "source": [
        "## Provide a boxplot for the MEDV variable vs the AGE variable. (Discretize the age variable into three groups of 35 years and younger, between 35 and 70 years and 70 years and older)"
      ],
      "metadata": {
        "id": "HIdniZYEGiI_"
      }
    },
    {
      "cell_type": "code",
      "source": [
        "df.loc[(df['AGE']<=35),'agegroup']='35 years and younger'"
      ],
      "metadata": {
        "id": "yAEYwYIUSyEX"
      },
      "execution_count": 14,
      "outputs": []
    },
    {
      "cell_type": "code",
      "source": [
        "df.loc[(df['AGE']>=35)&(df['AGE']<70),'agegroup']='between 35 and 70 years'"
      ],
      "metadata": {
        "id": "Glb6ZSLdTYKm"
      },
      "execution_count": 15,
      "outputs": []
    },
    {
      "cell_type": "code",
      "source": [
        "df.loc[(df['AGE']>=70),'agegroup']='70 years and older'"
      ],
      "metadata": {
        "id": "ezTVkq25Tpwo"
      },
      "execution_count": 16,
      "outputs": []
    },
    {
      "cell_type": "code",
      "source": [
        "sns.boxplot(x='agegroup',y='MEDV',data=df)\n",
        "plt.title('boxplot for the MEDV variable vs the AGE variable')\n",
        "plt.xlabel('age group variable')\n",
        "plt.ylabel('medv for each age group variable')\n",
        "plt.show()"
      ],
      "metadata": {
        "colab": {
          "base_uri": "https://localhost:8080/",
          "height": 295
        },
        "id": "Kwtmv0-3T9_P",
        "outputId": "54fffd07-5e13-4ab2-ea79-c52d62bf3ba8"
      },
      "execution_count": 18,
      "outputs": [
        {
          "output_type": "display_data",
          "data": {
            "text/plain": [
              "<Figure size 432x288 with 1 Axes>"
            ],
            "image/png": "[encoded data removed]"
          },
          "metadata": {
            "needs_background": "light"
          }
        }
      ]
    },
    {
      "cell_type": "markdown",
      "source": [
        "##### age group of 35 years and younger and between 35 and 70 years have higher median values than age  group with 70 years and older."
      ],
      "metadata": {
        "id": "KMEKqU5iJuoz"
      }
    },
    {
      "cell_type": "markdown",
      "source": [
        "## Provide a  bar plot for the Charles river variable"
      ],
      "metadata": {
        "id": "0-uQjzvKHiR3"
      }
    },
    {
      "cell_type": "code",
      "source": [
        "sns.countplot(x='CHAS',data=df)\n",
        "plt.title('bar plot for the Charles river variable')\n",
        "plt.xlabel('chas variable for 0 and 1')\n",
        "plt.ylabel('count of chas variable for 0 and 1 seprately')\n",
        "plt.show()"
      ],
      "metadata": {
        "colab": {
          "base_uri": "https://localhost:8080/",
          "height": 295
        },
        "id": "8SG9wf2kWR5P",
        "outputId": "317eff05-74fc-403c-f1fb-8474c1d33957"
      },
      "execution_count": 19,
      "outputs": [
        {
          "output_type": "display_data",
          "data": {
            "text/plain": [
              "<Figure size 432x288 with 1 Axes>"
            ],
            "image/png": "[encoded data removed]"
          },
          "metadata": {
            "needs_background": "light"
          }
        }
      ]
    },
    {
      "cell_type": "markdown",
      "source": [
        "##### charles river have higher number of count for 0.0 which means maximum number of river are not track bounds river and less river are track bound river with 1.0."
      ],
      "metadata": {
        "id": "PR359kWfKQFD"
      }
    },
    {
      "cell_type": "markdown",
      "source": [
        "## Is there a significant difference in median value of houses bounded by the Charles river or not? (T-test for independent samples)"
      ],
      "metadata": {
        "id": "Ky5s7d0_Ia33"
      }
    },
    {
      "cell_type": "code",
      "source": [
        "scipy.stats.ttest_ind(df[df['CHAS']==0.0]['MEDV'],df[df['CHAS']==1.0]['MEDV'],equal_var=True)"
      ],
      "metadata": {
        "id": "y3o_pX4QYLYw",
        "colab": {
          "base_uri": "https://localhost:8080/"
        },
        "outputId": "ea93bf61-fd88-4eeb-af4b-f685757140ae"
      },
      "execution_count": 27,
      "outputs": [
        {
          "output_type": "execute_result",
          "data": {
            "text/plain": [
              "Ttest_indResult(statistic=-3.996437466090509, pvalue=7.390623170519905e-05)"
            ]
          },
          "metadata": {},
          "execution_count": 27
        }
      ]
    },
    {
      "cell_type": "markdown",
      "source": [
        "##### as our null hypothesis is accepted.so,there is a no significane difference between median value of houses bounded by the Charles river because p values is less than alpha."
      ],
      "metadata": {
        "id": "fa-8WX13MvkT"
      }
    },
    {
      "cell_type": "markdown",
      "source": [
        "## Can we conclude that there is no relationship between Nitric oxide concentrations and proportion of non-retail business acres per town? (Pearson Correlation)"
      ],
      "metadata": {
        "id": "3JfNT2KxOO1l"
      }
    },
    {
      "cell_type": "code",
      "source": [
        "scipy.stats.pearsonr(df['NOX'],df['INDUS'])"
      ],
      "metadata": {
        "colab": {
          "base_uri": "https://localhost:8080/"
        },
        "id": "rVoBokmIOSk5",
        "outputId": "a43ff0cd-3455-494a-a63c-49b244a70136"
      },
      "execution_count": 32,
      "outputs": [
        {
          "output_type": "execute_result",
          "data": {
            "text/plain": [
              "(0.7636514469209151, 7.913361061238693e-98)"
            ]
          },
          "metadata": {},
          "execution_count": 32
        }
      ]
    },
    {
      "cell_type": "markdown",
      "source": [
        "##### yes,there is a strong relationship between Nitric oxide concentrations and proportion of non-retail business acres per town because the pearson value is 0.76 which so close to 1."
      ],
      "metadata": {
        "id": "7tiBY6tsOmfU"
      }
    },
    {
      "cell_type": "markdown",
      "source": [
        "## Is there a difference in Median values of houses (MEDV) for each proportion of owner occupied units built prior to 1940 (AGE)? (ANOVA)"
      ],
      "metadata": {
        "id": "RAsV_dGFPZXS"
      }
    },
    {
      "cell_type": "code",
      "source": [
        "thirty_five_years_younger=df[df['agegroup']=='35 years and younger']['MEDV']\n",
        "seventy_years_older=df[df['agegroup']=='70 years and older']['MEDV']\n",
        "thirty_five_seventy=df[df['agegroup']=='between 35 and 70 years']['MEDV']"
      ],
      "metadata": {
        "id": "6gM28ypIPYLo"
      },
      "execution_count": 38,
      "outputs": []
    },
    {
      "cell_type": "code",
      "source": [
        "f_stats,p_value=scipy.stats.f_oneway(thirty_five_years_younger,thirty_five_seventy,seventy_years_older)\n",
        "print(f_stats)\n",
        "print(p_value)"
      ],
      "metadata": {
        "colab": {
          "base_uri": "https://localhost:8080/"
        },
        "id": "aQ8f0rq6RvxU",
        "outputId": "813ceb45-c596-4157-e236-8b0b910e5055"
      },
      "execution_count": 40,
      "outputs": [
        {
          "output_type": "stream",
          "name": "stdout",
          "text": [
            "36.40764999196599\n",
            "1.7105011022702984e-15\n"
          ]
        }
      ]
    },
    {
      "cell_type": "markdown",
      "source": [
        "##### as our null hypothesis is accepted.so,there is a no significane difference in Median values of houses (MEDV) for each proportion of owner occupied units built prior to 1940 (AGE) because p values is less than alpha."
      ],
      "metadata": {
        "id": "b8m9-BG_SrA1"
      }
    },
    {
      "cell_type": "markdown",
      "source": [
        "# Regards And Thanks \n",
        "## Anubhav Kumar Gupta"
      ],
      "metadata": {
        "id": "0xHKXFsoTkwH"
      }
    }
  ]
}